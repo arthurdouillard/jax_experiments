{
  "nbformat": 4,
  "nbformat_minor": 0,
  "metadata": {
    "colab": {
      "name": "vision_transformer_haiku",
      "provenance": [],
      "collapsed_sections": []
    },
    "kernelspec": {
      "name": "python3",
      "display_name": "Python 3"
    },
    "language_info": {
      "name": "python"
    },
    "accelerator": "GPU",
    "gpuClass": "standard",
    "widgets": {
      "application/vnd.jupyter.widget-state+json": {
        "5170d3763339499f907201b14b5cfb96": {
          "model_module": "@jupyter-widgets/controls",
          "model_name": "HBoxModel",
          "model_module_version": "1.5.0",
          "state": {
            "_dom_classes": [],
            "_model_module": "@jupyter-widgets/controls",
            "_model_module_version": "1.5.0",
            "_model_name": "HBoxModel",
            "_view_count": null,
            "_view_module": "@jupyter-widgets/controls",
            "_view_module_version": "1.5.0",
            "_view_name": "HBoxView",
            "box_style": "",
            "children": [
              "IPY_MODEL_8af15fa1ebd04be592b119c42bf09fc1",
              "IPY_MODEL_86dcb0594eb940e8aee0fe4ef973a91b",
              "IPY_MODEL_7c2c5ff1f22045768e70c552e6a77c83"
            ],
            "layout": "IPY_MODEL_5fbe26105d08409a907f6b25d25a1643"
          }
        },
        "8af15fa1ebd04be592b119c42bf09fc1": {
          "model_module": "@jupyter-widgets/controls",
          "model_name": "HTMLModel",
          "model_module_version": "1.5.0",
          "state": {
            "_dom_classes": [],
            "_model_module": "@jupyter-widgets/controls",
            "_model_module_version": "1.5.0",
            "_model_name": "HTMLModel",
            "_view_count": null,
            "_view_module": "@jupyter-widgets/controls",
            "_view_module_version": "1.5.0",
            "_view_name": "HTMLView",
            "description": "",
            "description_tooltip": null,
            "layout": "IPY_MODEL_46756700bb294b97bf3ea923618e5243",
            "placeholder": "​",
            "style": "IPY_MODEL_d1fc6829c9e84515a6966d1adebbb328",
            "value": "Dl Completed...: 100%"
          }
        },
        "86dcb0594eb940e8aee0fe4ef973a91b": {
          "model_module": "@jupyter-widgets/controls",
          "model_name": "FloatProgressModel",
          "model_module_version": "1.5.0",
          "state": {
            "_dom_classes": [],
            "_model_module": "@jupyter-widgets/controls",
            "_model_module_version": "1.5.0",
            "_model_name": "FloatProgressModel",
            "_view_count": null,
            "_view_module": "@jupyter-widgets/controls",
            "_view_module_version": "1.5.0",
            "_view_name": "ProgressView",
            "bar_style": "success",
            "description": "",
            "description_tooltip": null,
            "layout": "IPY_MODEL_e24e55b2196240118ed472f0d858c6d7",
            "max": 4,
            "min": 0,
            "orientation": "horizontal",
            "style": "IPY_MODEL_6697e48181ed4b3abf743a5c1ce3c33c",
            "value": 4
          }
        },
        "7c2c5ff1f22045768e70c552e6a77c83": {
          "model_module": "@jupyter-widgets/controls",
          "model_name": "HTMLModel",
          "model_module_version": "1.5.0",
          "state": {
            "_dom_classes": [],
            "_model_module": "@jupyter-widgets/controls",
            "_model_module_version": "1.5.0",
            "_model_name": "HTMLModel",
            "_view_count": null,
            "_view_module": "@jupyter-widgets/controls",
            "_view_module_version": "1.5.0",
            "_view_name": "HTMLView",
            "description": "",
            "description_tooltip": null,
            "layout": "IPY_MODEL_d4a043dc35814de5976f3bf5fc3af00c",
            "placeholder": "​",
            "style": "IPY_MODEL_b4e3a0962cf94cc1b345213ead9c7f36",
            "value": " 4/4 [00:00&lt;00:00, 13.01 file/s]"
          }
        },
        "5fbe26105d08409a907f6b25d25a1643": {
          "model_module": "@jupyter-widgets/base",
          "model_name": "LayoutModel",
          "model_module_version": "1.2.0",
          "state": {
            "_model_module": "@jupyter-widgets/base",
            "_model_module_version": "1.2.0",
            "_model_name": "LayoutModel",
            "_view_count": null,
            "_view_module": "@jupyter-widgets/base",
            "_view_module_version": "1.2.0",
            "_view_name": "LayoutView",
            "align_content": null,
            "align_items": null,
            "align_self": null,
            "border": null,
            "bottom": null,
            "display": null,
            "flex": null,
            "flex_flow": null,
            "grid_area": null,
            "grid_auto_columns": null,
            "grid_auto_flow": null,
            "grid_auto_rows": null,
            "grid_column": null,
            "grid_gap": null,
            "grid_row": null,
            "grid_template_areas": null,
            "grid_template_columns": null,
            "grid_template_rows": null,
            "height": null,
            "justify_content": null,
            "justify_items": null,
            "left": null,
            "margin": null,
            "max_height": null,
            "max_width": null,
            "min_height": null,
            "min_width": null,
            "object_fit": null,
            "object_position": null,
            "order": null,
            "overflow": null,
            "overflow_x": null,
            "overflow_y": null,
            "padding": null,
            "right": null,
            "top": null,
            "visibility": null,
            "width": null
          }
        },
        "46756700bb294b97bf3ea923618e5243": {
          "model_module": "@jupyter-widgets/base",
          "model_name": "LayoutModel",
          "model_module_version": "1.2.0",
          "state": {
            "_model_module": "@jupyter-widgets/base",
            "_model_module_version": "1.2.0",
            "_model_name": "LayoutModel",
            "_view_count": null,
            "_view_module": "@jupyter-widgets/base",
            "_view_module_version": "1.2.0",
            "_view_name": "LayoutView",
            "align_content": null,
            "align_items": null,
            "align_self": null,
            "border": null,
            "bottom": null,
            "display": null,
            "flex": null,
            "flex_flow": null,
            "grid_area": null,
            "grid_auto_columns": null,
            "grid_auto_flow": null,
            "grid_auto_rows": null,
            "grid_column": null,
            "grid_gap": null,
            "grid_row": null,
            "grid_template_areas": null,
            "grid_template_columns": null,
            "grid_template_rows": null,
            "height": null,
            "justify_content": null,
            "justify_items": null,
            "left": null,
            "margin": null,
            "max_height": null,
            "max_width": null,
            "min_height": null,
            "min_width": null,
            "object_fit": null,
            "object_position": null,
            "order": null,
            "overflow": null,
            "overflow_x": null,
            "overflow_y": null,
            "padding": null,
            "right": null,
            "top": null,
            "visibility": null,
            "width": null
          }
        },
        "d1fc6829c9e84515a6966d1adebbb328": {
          "model_module": "@jupyter-widgets/controls",
          "model_name": "DescriptionStyleModel",
          "model_module_version": "1.5.0",
          "state": {
            "_model_module": "@jupyter-widgets/controls",
            "_model_module_version": "1.5.0",
            "_model_name": "DescriptionStyleModel",
            "_view_count": null,
            "_view_module": "@jupyter-widgets/base",
            "_view_module_version": "1.2.0",
            "_view_name": "StyleView",
            "description_width": ""
          }
        },
        "e24e55b2196240118ed472f0d858c6d7": {
          "model_module": "@jupyter-widgets/base",
          "model_name": "LayoutModel",
          "model_module_version": "1.2.0",
          "state": {
            "_model_module": "@jupyter-widgets/base",
            "_model_module_version": "1.2.0",
            "_model_name": "LayoutModel",
            "_view_count": null,
            "_view_module": "@jupyter-widgets/base",
            "_view_module_version": "1.2.0",
            "_view_name": "LayoutView",
            "align_content": null,
            "align_items": null,
            "align_self": null,
            "border": null,
            "bottom": null,
            "display": null,
            "flex": null,
            "flex_flow": null,
            "grid_area": null,
            "grid_auto_columns": null,
            "grid_auto_flow": null,
            "grid_auto_rows": null,
            "grid_column": null,
            "grid_gap": null,
            "grid_row": null,
            "grid_template_areas": null,
            "grid_template_columns": null,
            "grid_template_rows": null,
            "height": null,
            "justify_content": null,
            "justify_items": null,
            "left": null,
            "margin": null,
            "max_height": null,
            "max_width": null,
            "min_height": null,
            "min_width": null,
            "object_fit": null,
            "object_position": null,
            "order": null,
            "overflow": null,
            "overflow_x": null,
            "overflow_y": null,
            "padding": null,
            "right": null,
            "top": null,
            "visibility": null,
            "width": null
          }
        },
        "6697e48181ed4b3abf743a5c1ce3c33c": {
          "model_module": "@jupyter-widgets/controls",
          "model_name": "ProgressStyleModel",
          "model_module_version": "1.5.0",
          "state": {
            "_model_module": "@jupyter-widgets/controls",
            "_model_module_version": "1.5.0",
            "_model_name": "ProgressStyleModel",
            "_view_count": null,
            "_view_module": "@jupyter-widgets/base",
            "_view_module_version": "1.2.0",
            "_view_name": "StyleView",
            "bar_color": null,
            "description_width": ""
          }
        },
        "d4a043dc35814de5976f3bf5fc3af00c": {
          "model_module": "@jupyter-widgets/base",
          "model_name": "LayoutModel",
          "model_module_version": "1.2.0",
          "state": {
            "_model_module": "@jupyter-widgets/base",
            "_model_module_version": "1.2.0",
            "_model_name": "LayoutModel",
            "_view_count": null,
            "_view_module": "@jupyter-widgets/base",
            "_view_module_version": "1.2.0",
            "_view_name": "LayoutView",
            "align_content": null,
            "align_items": null,
            "align_self": null,
            "border": null,
            "bottom": null,
            "display": null,
            "flex": null,
            "flex_flow": null,
            "grid_area": null,
            "grid_auto_columns": null,
            "grid_auto_flow": null,
            "grid_auto_rows": null,
            "grid_column": null,
            "grid_gap": null,
            "grid_row": null,
            "grid_template_areas": null,
            "grid_template_columns": null,
            "grid_template_rows": null,
            "height": null,
            "justify_content": null,
            "justify_items": null,
            "left": null,
            "margin": null,
            "max_height": null,
            "max_width": null,
            "min_height": null,
            "min_width": null,
            "object_fit": null,
            "object_position": null,
            "order": null,
            "overflow": null,
            "overflow_x": null,
            "overflow_y": null,
            "padding": null,
            "right": null,
            "top": null,
            "visibility": null,
            "width": null
          }
        },
        "b4e3a0962cf94cc1b345213ead9c7f36": {
          "model_module": "@jupyter-widgets/controls",
          "model_name": "DescriptionStyleModel",
          "model_module_version": "1.5.0",
          "state": {
            "_model_module": "@jupyter-widgets/controls",
            "_model_module_version": "1.5.0",
            "_model_name": "DescriptionStyleModel",
            "_view_count": null,
            "_view_module": "@jupyter-widgets/base",
            "_view_module_version": "1.2.0",
            "_view_name": "StyleView",
            "description_width": ""
          }
        }
      }
    }
  },
  "cells": [
    {
      "cell_type": "code",
      "source": [
        "!pip install dm-haiku"
      ],
      "metadata": {
        "colab": {
          "base_uri": "https://localhost:8080/"
        },
        "id": "aYJQTd1bWVVQ",
        "outputId": "4a836939-29ca-4667-da2f-403f078b047b"
      },
      "execution_count": 4,
      "outputs": [
        {
          "output_type": "stream",
          "name": "stdout",
          "text": [
            "Looking in indexes: https://pypi.org/simple, https://us-python.pkg.dev/colab-wheels/public/simple/\n",
            "Collecting dm-haiku\n",
            "  Downloading dm_haiku-0.0.7-py3-none-any.whl (342 kB)\n",
            "\u001b[K     |████████████████████████████████| 342 kB 6.7 MB/s \n",
            "\u001b[?25hRequirement already satisfied: typing-extensions in /usr/local/lib/python3.7/dist-packages (from dm-haiku) (4.1.1)\n",
            "Requirement already satisfied: tabulate>=0.8.9 in /usr/local/lib/python3.7/dist-packages (from dm-haiku) (0.8.10)\n",
            "Requirement already satisfied: absl-py>=0.7.1 in /usr/local/lib/python3.7/dist-packages (from dm-haiku) (1.2.0)\n",
            "Collecting jmp>=0.0.2\n",
            "  Downloading jmp-0.0.2-py3-none-any.whl (16 kB)\n",
            "Requirement already satisfied: numpy>=1.18.0 in /usr/local/lib/python3.7/dist-packages (from dm-haiku) (1.21.6)\n",
            "Installing collected packages: jmp, dm-haiku\n",
            "Successfully installed dm-haiku-0.0.7 jmp-0.0.2\n",
            "Looking in indexes: https://pypi.org/simple, https://us-python.pkg.dev/colab-wheels/public/simple/\n",
            "Collecting optax\n",
            "  Downloading optax-0.1.3-py3-none-any.whl (145 kB)\n",
            "\u001b[K     |████████████████████████████████| 145 kB 6.6 MB/s \n",
            "\u001b[?25hRequirement already satisfied: absl-py>=0.7.1 in /usr/local/lib/python3.7/dist-packages (from optax) (1.2.0)\n",
            "Requirement already satisfied: typing-extensions>=3.10.0 in /usr/local/lib/python3.7/dist-packages (from optax) (4.1.1)\n",
            "Requirement already satisfied: jaxlib>=0.1.37 in /usr/local/lib/python3.7/dist-packages (from optax) (0.3.14+cuda11.cudnn805)\n",
            "Requirement already satisfied: jax>=0.1.55 in /usr/local/lib/python3.7/dist-packages (from optax) (0.3.14)\n",
            "Collecting chex>=0.0.4\n",
            "  Downloading chex-0.1.3-py3-none-any.whl (72 kB)\n",
            "\u001b[K     |████████████████████████████████| 72 kB 806 kB/s \n",
            "\u001b[?25hRequirement already satisfied: numpy>=1.18.0 in /usr/local/lib/python3.7/dist-packages (from optax) (1.21.6)\n",
            "Requirement already satisfied: toolz>=0.9.0 in /usr/local/lib/python3.7/dist-packages (from chex>=0.0.4->optax) (0.12.0)\n",
            "Requirement already satisfied: dm-tree>=0.1.5 in /usr/local/lib/python3.7/dist-packages (from chex>=0.0.4->optax) (0.1.7)\n",
            "Requirement already satisfied: etils[epath] in /usr/local/lib/python3.7/dist-packages (from jax>=0.1.55->optax) (0.6.0)\n",
            "Requirement already satisfied: opt-einsum in /usr/local/lib/python3.7/dist-packages (from jax>=0.1.55->optax) (3.3.0)\n",
            "Requirement already satisfied: scipy>=1.5 in /usr/local/lib/python3.7/dist-packages (from jax>=0.1.55->optax) (1.7.3)\n",
            "Requirement already satisfied: flatbuffers<3.0,>=1.12 in /usr/local/lib/python3.7/dist-packages (from jaxlib>=0.1.37->optax) (2.0)\n",
            "Requirement already satisfied: importlib_resources in /usr/local/lib/python3.7/dist-packages (from etils[epath]->jax>=0.1.55->optax) (5.9.0)\n",
            "Requirement already satisfied: zipp in /usr/local/lib/python3.7/dist-packages (from etils[epath]->jax>=0.1.55->optax) (3.8.1)\n",
            "Installing collected packages: chex, optax\n",
            "Successfully installed chex-0.1.3 optax-0.1.3\n"
          ]
        }
      ]
    },
    {
      "cell_type": "code",
      "execution_count": 5,
      "metadata": {
        "id": "eNLd4QKVWLd7"
      },
      "outputs": [],
      "source": [
        "import dataclasses\n",
        "\n",
        "import jax\n",
        "from jax import numpy as jnp\n",
        "import haiku as hk\n",
        "import tensorflow_datasets as tfds\n",
        "import tensorflow as tf"
      ]
    },
    {
      "cell_type": "markdown",
      "source": [
        "# Datasets setup"
      ],
      "metadata": {
        "id": "bKOIq8BKXtv_"
      }
    },
    {
      "cell_type": "code",
      "source": [
        "(ds_train, ds_test), ds_info = tfds.load(\n",
        "    'mnist',\n",
        "    split=['train', 'test'],\n",
        "    shuffle_files=True,\n",
        "    as_supervised=True,\n",
        "    with_info=True,\n",
        ")\n",
        "ds_info"
      ],
      "metadata": {
        "colab": {
          "base_uri": "https://localhost:8080/",
          "height": 641,
          "referenced_widgets": [
            "5170d3763339499f907201b14b5cfb96",
            "8af15fa1ebd04be592b119c42bf09fc1",
            "86dcb0594eb940e8aee0fe4ef973a91b",
            "7c2c5ff1f22045768e70c552e6a77c83",
            "5fbe26105d08409a907f6b25d25a1643",
            "46756700bb294b97bf3ea923618e5243",
            "d1fc6829c9e84515a6966d1adebbb328",
            "e24e55b2196240118ed472f0d858c6d7",
            "6697e48181ed4b3abf743a5c1ce3c33c",
            "d4a043dc35814de5976f3bf5fc3af00c",
            "b4e3a0962cf94cc1b345213ead9c7f36"
          ]
        },
        "id": "R12bCboPWvTV",
        "outputId": "c7efd4c4-aef0-46b1-f59c-eb3acf790abe"
      },
      "execution_count": 6,
      "outputs": [
        {
          "output_type": "stream",
          "name": "stdout",
          "text": [
            "\u001b[1mDownloading and preparing dataset mnist/3.0.1 (download: 11.06 MiB, generated: 21.00 MiB, total: 32.06 MiB) to /root/tensorflow_datasets/mnist/3.0.1...\u001b[0m\n"
          ]
        },
        {
          "output_type": "stream",
          "name": "stderr",
          "text": [
            "WARNING:absl:Dataset mnist is hosted on GCS. It will automatically be downloaded to your\n",
            "local data directory. If you'd instead prefer to read directly from our public\n",
            "GCS bucket (recommended if you're running on GCP), you can instead pass\n",
            "`try_gcs=True` to `tfds.load` or set `data_dir=gs://tfds-data/datasets`.\n",
            "\n"
          ]
        },
        {
          "output_type": "display_data",
          "data": {
            "text/plain": [
              "Dl Completed...:   0%|          | 0/4 [00:00<?, ? file/s]"
            ],
            "application/vnd.jupyter.widget-view+json": {
              "version_major": 2,
              "version_minor": 0,
              "model_id": "5170d3763339499f907201b14b5cfb96"
            }
          },
          "metadata": {}
        },
        {
          "output_type": "stream",
          "name": "stdout",
          "text": [
            "\n",
            "\u001b[1mDataset mnist downloaded and prepared to /root/tensorflow_datasets/mnist/3.0.1. Subsequent calls will reuse this data.\u001b[0m\n"
          ]
        },
        {
          "output_type": "execute_result",
          "data": {
            "text/plain": [
              "tfds.core.DatasetInfo(\n",
              "    name='mnist',\n",
              "    version=3.0.1,\n",
              "    description='The MNIST database of handwritten digits.',\n",
              "    homepage='http://yann.lecun.com/exdb/mnist/',\n",
              "    features=FeaturesDict({\n",
              "        'image': Image(shape=(28, 28, 1), dtype=tf.uint8),\n",
              "        'label': ClassLabel(shape=(), dtype=tf.int64, num_classes=10),\n",
              "    }),\n",
              "    total_num_examples=70000,\n",
              "    splits={\n",
              "        'test': 10000,\n",
              "        'train': 60000,\n",
              "    },\n",
              "    supervised_keys=('image', 'label'),\n",
              "    citation=\"\"\"@article{lecun2010mnist,\n",
              "      title={MNIST handwritten digit database},\n",
              "      author={LeCun, Yann and Cortes, Corinna and Burges, CJ},\n",
              "      journal={ATT Labs [Online]. Available: http://yann.lecun.com/exdb/mnist},\n",
              "      volume={2},\n",
              "      year={2010}\n",
              "    }\"\"\",\n",
              "    redistribution_info=,\n",
              ")"
            ]
          },
          "metadata": {},
          "execution_count": 6
        }
      ]
    },
    {
      "cell_type": "code",
      "source": [
        "def normalize_img(image, label):\n",
        "  \"\"\"Normalizes images: `uint8` -> `float32`.\"\"\"\n",
        "  return tf.cast(image, tf.float32) / 255., label\n",
        "\n",
        "ds_train = ds_train.map(\n",
        "    normalize_img, num_parallel_calls=tf.data.AUTOTUNE)\n",
        "ds_train = ds_train.cache()\n",
        "ds_train = ds_train.shuffle(ds_info.splits['train'].num_examples)\n",
        "ds_train = ds_train.batch(128)\n",
        "ds_train = ds_train.prefetch(tf.data.AUTOTUNE)\n",
        "\n",
        "ds_test = ds_test.map(\n",
        "    normalize_img, num_parallel_calls=tf.data.AUTOTUNE)\n",
        "ds_test = ds_test.batch(128)\n",
        "ds_test = ds_test.cache()\n",
        "ds_test = ds_test.prefetch(tf.data.AUTOTUNE)"
      ],
      "metadata": {
        "id": "o-rgkdFfXItS"
      },
      "execution_count": 7,
      "outputs": []
    },
    {
      "cell_type": "code",
      "source": [
        "x, y = next(iter(ds_train))\n",
        "x.shape, type(x)"
      ],
      "metadata": {
        "colab": {
          "base_uri": "https://localhost:8080/"
        },
        "id": "EPYKns8aXJ61",
        "outputId": "395027bf-9433-4bfd-fed9-0ca485b15b8c"
      },
      "execution_count": 8,
      "outputs": [
        {
          "output_type": "execute_result",
          "data": {
            "text/plain": [
              "(TensorShape([128, 28, 28, 1]), tensorflow.python.framework.ops.EagerTensor)"
            ]
          },
          "metadata": {},
          "execution_count": 8
        }
      ]
    },
    {
      "cell_type": "code",
      "source": [
        "x, y = next(iter(tfds.as_numpy(ds_train)))\n",
        "x.shape, type(x)"
      ],
      "metadata": {
        "colab": {
          "base_uri": "https://localhost:8080/"
        },
        "id": "n0C02aGo_ajT",
        "outputId": "32d51d9f-e2af-4c81-ed52-031c6517a507"
      },
      "execution_count": 9,
      "outputs": [
        {
          "output_type": "execute_result",
          "data": {
            "text/plain": [
              "((128, 28, 28, 1), numpy.ndarray)"
            ]
          },
          "metadata": {},
          "execution_count": 9
        }
      ]
    },
    {
      "cell_type": "markdown",
      "source": [
        "# Haiku"
      ],
      "metadata": {
        "id": "glq16DqH_q2U"
      }
    },
    {
      "cell_type": "code",
      "source": [
        "@dataclasses.dataclass\n",
        "class Tokenizer(hk.Module):\n",
        "  embed_dim: int\n",
        "\n",
        "  def __call__(self, img: jnp.array):\n",
        "    emb = hk.Conv2D(self.embed_dim, kernel_shape=4, stride=4)(img)\n",
        "    w, h, d = emb.shape\n",
        "    return jnp.reshape(emb, (w * h, d))\n",
        "\n",
        "\n",
        "@dataclasses.dataclass\n",
        "class MLP(hk.Module):\n",
        "  embed_dim: int\n",
        "  expand_factor: int\n",
        "  init_fn: hk.initializers.Initializer\n",
        "\n",
        "  def __call__(self, tokens: jnp.array):\n",
        "    tokens = hk.Linear(self.embed_dim * self.expand_factor, w_init=self.init_fn)(tokens)\n",
        "    tokens = jax.nn.gelu(tokens)\n",
        "    return hk.Linear(self.embed_dim, w_init=self.init_fn)(tokens)\n",
        "\n",
        "\n",
        "@dataclasses.dataclass\n",
        "class MultiHeadsSelfAtt(hk.Module):\n",
        "  embed_dim: int\n",
        "  nb_heads: int\n",
        "  init_fn: hk.initializers.Initializer\n",
        "\n",
        "  def __call__(self, tokens: jnp.array):\n",
        "    qkv = hk.Linear(3 * self.embed_dim, w_init=self.init_fn)(tokens)\n",
        "    q, k, v = jnp.split(qkv, indices_or_sections=3, axis=-1)\n",
        "\n",
        "    q = jnp.reshape(q, (-1, self.nb_heads, self.embed_dim // self.nb_heads))\n",
        "    k = jnp.reshape(k, (-1, self.nb_heads, self.embed_dim // self.nb_heads))\n",
        "    v = jnp.reshape(v, (-1, self.nb_heads, self.embed_dim // self.nb_heads))\n",
        "\n",
        "    o = _mhsa(q, k, v)\n",
        "\n",
        "    return hk.Linear(self.embed_dim, w_init=self.init_fn)(o)\n",
        "\n",
        "\n",
        "@dataclasses.dataclass\n",
        "class MultiHeadsClassAtt(hk.Module):\n",
        "  embed_dim: int\n",
        "  nb_heads: int\n",
        "  init_fn: hk.initializers.Initializer\n",
        "\n",
        "  def __call__(self, tokens: jnp.array):\n",
        "    qkv = hk.Linear(3 * self.embed_dim, w_init=self.init_fn)(tokens)\n",
        "    q, k, v = jnp.split(qkv, indices_or_sections=3, axis=-1)\n",
        "\n",
        "    q = jnp.reshape(q[0], (1, self.nb_heads, self.embed_dim // self.nb_heads))\n",
        "    k = jnp.reshape(k, (-1, self.nb_heads, self.embed_dim // self.nb_heads))\n",
        "    v = jnp.reshape(v, (-1, self.nb_heads, self.embed_dim // self.nb_heads))\n",
        "\n",
        "    o = _mhsa(q, k, v)\n",
        "\n",
        "    return hk.Linear(self.embed_dim, w_init=self.init_fn)(o)\n",
        "\n",
        "@jax.jit\n",
        "def _mhsa(q, k, v) -> jnp.array:\n",
        "    embed_dim = q.shape[-1] * q.shape[-2]\n",
        "\n",
        "    att_logits = jnp.einsum('...thd,...Thd->...htT', q, k)\n",
        "    # eq. to jnp.matmul(x.transpose(1,0,2), y.transpose(1, 2, 0))\n",
        "    scale = 1 / jnp.sqrt(embed_dim)\n",
        "    att = jax.nn.softmax(att_logits * scale)\n",
        "\n",
        "    o = jnp.einsum(\"...htT,...Thd->...thd\", att, v)\n",
        "    # eq. to jnp.matmul(x, y.transpose(1, 0, 2)).transpose(1, 0, 2)\n",
        "    o = jnp.reshape(o, (-1, embed_dim))\n",
        "\n",
        "    return o\n",
        "\n",
        "\n",
        "@dataclasses.dataclass\n",
        "class Block(hk.Module):\n",
        "    embed_dim: int\n",
        "    nb_heads: int\n",
        "    init_fn: hk.initializers.Initializer\n",
        "    att_fn: hk.Module\n",
        "    expand_factor: int\n",
        "\n",
        "    def __call__(self, tokens):\n",
        "      tokens_ = hk.LayerNorm(-1, create_scale=True, create_offset=True)(tokens)\n",
        "      tokens_ = self.att_fn(self.embed_dim, self.nb_heads, self.init_fn)(tokens_)\n",
        "\n",
        "      tokens = tokens + tokens_\n",
        "\n",
        "      tokens_ = hk.LayerNorm(-1, create_scale=True, create_offset=True)(tokens)\n",
        "      tokens_ = MLP(self.embed_dim, self.expand_factor, self.init_fn)(tokens_)\n",
        "\n",
        "      return tokens + tokens_\n",
        "\n",
        "\n",
        "@dataclasses.dataclass\n",
        "class PosEmbedding(hk.Module):\n",
        "  def __call__(self, tokens: jnp.array):\n",
        "    init = hk.initializers.TruncatedNormal(stddev=0.02)\n",
        "    pos_emb = hk.get_parameter(\"pos_emb\", tokens.shape, init=init)\n",
        "    return tokens + pos_emb\n",
        "\n",
        "\n",
        "@dataclasses.dataclass\n",
        "class ViT(hk.Module):\n",
        "  embed_dim: int\n",
        "  expand_factor: int\n",
        "  nb_layers: int\n",
        "  nb_heads: int\n",
        "  nb_classes: int\n",
        "  nb_ca: int = 1\n",
        "  cait: bool = False\n",
        "\n",
        "  def __call__(self, img):\n",
        "    tokens = Tokenizer(self.embed_dim)(img)\n",
        "\n",
        "    init_token = hk.initializers.TruncatedNormal(stddev=0.02)\n",
        "    init_var = hk.initializers.VarianceScaling(2 / self.nb_layers)\n",
        "\n",
        "    cls_token = hk.get_parameter(\"cls_token\", (1, self.embed_dim), init=init_token)\n",
        "\n",
        "    if self.cait:\n",
        "      tokens = PosEmbedding()(tokens)\n",
        "\n",
        "      for _ in range(self.nb_layers - self.nb_ca):\n",
        "        tokens = Block(\n",
        "            self.embed_dim, self.nb_heads, init_var, MultiHeadsSelfAtt, self.expand_factor\n",
        "        )(tokens)\n",
        "\n",
        "      for _ in range(self.nb_ca):\n",
        "        tokens = jnp.concatenate((cls_token, tokens))\n",
        "        cls_token = Block(\n",
        "            self.embed_dim, self.nb_heads, init_var, MultiHeadsClassAtt, self.expand_factor\n",
        "        )(tokens)\n",
        "\n",
        "      final_emb = cls_token[0]\n",
        "    else:\n",
        "      tokens = jnp.concatenate((cls_token, tokens))\n",
        "      tokens = PosEmbedding()(tokens)\n",
        "\n",
        "      for _ in range(self.nb_layers):\n",
        "        tokens = Block(\n",
        "            self.embed_dim, self.nb_heads, init_var, MultiHeadsSelfAtt, self.expand_factor\n",
        "        )(tokens)\n",
        "\n",
        "      final_emb = tokens[0]\n",
        "\n",
        "    return hk.Linear(\n",
        "        self.nb_classes, w_init=init_var\n",
        "    )(hk.LayerNorm(-1, create_scale=True, create_offset=True)(final_emb))\n",
        "\n",
        "\n",
        "rng = jax.random.PRNGKey(1)\n",
        "\n",
        "def _vit(x):\n",
        "  return ViT(\n",
        "      embed_dim=10, \n",
        "      expand_factor=4,\n",
        "      nb_layers=3,\n",
        "      nb_heads=2, \n",
        "      nb_classes=10,\n",
        "      nb_ca=1,\n",
        "      cait=True\n",
        "  )(x)\n",
        "\n",
        "vit = hk.without_apply_rng(hk.transform(_vit))\n",
        "params = vit.init(rng, jnp.ones((28, 28, 1)))"
      ],
      "metadata": {
        "id": "iqftIU9o-Ush"
      },
      "execution_count": 48,
      "outputs": []
    },
    {
      "cell_type": "code",
      "source": [
        "vit.apply(params, jnp.ones((28, 28, 1))).shape"
      ],
      "metadata": {
        "colab": {
          "base_uri": "https://localhost:8080/"
        },
        "id": "R98CeHACXrzV",
        "outputId": "6417e01b-6ee4-4f06-f540-1542d39c64c4"
      },
      "execution_count": 11,
      "outputs": [
        {
          "output_type": "execute_result",
          "data": {
            "text/plain": [
              "(10,)"
            ]
          },
          "metadata": {},
          "execution_count": 11
        }
      ]
    },
    {
      "cell_type": "code",
      "source": [
        "batch_apply = jax.vmap(vit.apply, in_axes=[None, 0])\n",
        "\n",
        "batch_apply(params, jnp.ones((32, 28, 28, 1))).shape"
      ],
      "metadata": {
        "colab": {
          "base_uri": "https://localhost:8080/"
        },
        "id": "3iI-YtI3rOeF",
        "outputId": "f9ed39a5-f759-4e88-814a-611146c09f87"
      },
      "execution_count": 12,
      "outputs": [
        {
          "output_type": "execute_result",
          "data": {
            "text/plain": [
              "(32, 10)"
            ]
          },
          "metadata": {},
          "execution_count": 12
        }
      ]
    },
    {
      "cell_type": "code",
      "source": [
        "x = jnp.ones((4096, 28, 28, 1))\n",
        "\n",
        "%timeit batch_apply(params, x).block_until_ready()"
      ],
      "metadata": {
        "colab": {
          "base_uri": "https://localhost:8080/"
        },
        "id": "PNzDTJY1ADm4",
        "outputId": "22b0b012-9fe9-422e-b5df-7298e6b819ea"
      },
      "execution_count": 13,
      "outputs": [
        {
          "output_type": "stream",
          "name": "stdout",
          "text": [
            "The slowest run took 65.69 times longer than the fastest. This could mean that an intermediate result is being cached.\n",
            "1 loop, best of 5: 83.5 ms per loop\n"
          ]
        }
      ]
    },
    {
      "cell_type": "code",
      "source": [
        "j_batch_apply = jax.jit(batch_apply)\n",
        "\n",
        "%timeit j_batch_apply(params, x).block_until_ready()"
      ],
      "metadata": {
        "colab": {
          "base_uri": "https://localhost:8080/"
        },
        "id": "d2D3P6uuRADZ",
        "outputId": "c4d0b276-10ef-4fa7-8595-a0633519d792"
      },
      "execution_count": 14,
      "outputs": [
        {
          "output_type": "stream",
          "name": "stdout",
          "text": [
            "The slowest run took 152.18 times longer than the fastest. This could mean that an intermediate result is being cached.\n",
            "1 loop, best of 5: 21.4 ms per loop\n"
          ]
        }
      ]
    },
    {
      "cell_type": "markdown",
      "source": [
        "# Training"
      ],
      "metadata": {
        "id": "4iv4e59RGVH1"
      }
    },
    {
      "cell_type": "code",
      "source": [
        "loader_train = tfds.as_numpy(ds_train)\n",
        "loader_test = tfds.as_numpy(ds_test)"
      ],
      "metadata": {
        "id": "-BXjbbSGvPpM"
      },
      "execution_count": 15,
      "outputs": []
    },
    {
      "cell_type": "code",
      "source": [
        "jnp.sum(jax.nn.one_hot([0, 1], 10) * jnp.ones((2, 10)), -1).shape"
      ],
      "metadata": {
        "colab": {
          "base_uri": "https://localhost:8080/"
        },
        "id": "5AqZVWvHSHmB",
        "outputId": "0a9a2014-858a-4051-fa48-cfe13e4de8a3"
      },
      "execution_count": 16,
      "outputs": [
        {
          "output_type": "execute_result",
          "data": {
            "text/plain": [
              "(2,)"
            ]
          },
          "metadata": {},
          "execution_count": 16
        }
      ]
    },
    {
      "cell_type": "code",
      "source": [
        "def loss_fn(params, x, y):\n",
        "  logits = j_batch_apply(params, x)\n",
        "  labels = jax.nn.one_hot(y, 10)\n",
        "\n",
        "  log_likelihood = jnp.mean(jnp.sum(labels * jax.nn.log_softmax(logits), -1))\n",
        "  return -log_likelihood\n",
        "\n",
        "\n",
        "@jax.jit\n",
        "def update(params, x, y):\n",
        "  loss, grads = jax.value_and_grad(loss_fn)(params, x, y)\n",
        "  params = jax.tree_map(\n",
        "      lambda p, g: p - 0.05 * g,\n",
        "      params, grads\n",
        "  )\n",
        "  return params, loss\n",
        "\n",
        "\n",
        "@jax.jit\n",
        "def _eval(params, x, y, result, count):\n",
        "    yhat = jnp.argmax(j_batch_apply(params, x), -1)\n",
        "    result += jnp.sum(yhat == y)\n",
        "    count += len(y)\n",
        "    return result, count\n",
        "\n",
        "def eval(params, loader):\n",
        "  result, count = jnp.array(0.), jnp.array(0.)\n",
        "\n",
        "  for x, y in loader:\n",
        "    result, count = _eval(params, x, y, result, count)\n",
        "\n",
        "  return 100 * result / count"
      ],
      "metadata": {
        "id": "lrRaXm4kGvpU"
      },
      "execution_count": 50,
      "outputs": []
    },
    {
      "cell_type": "code",
      "source": [
        "x = jnp.ones((128, 28, 28, 1))\n",
        "y = jnp.ones((128,))"
      ],
      "metadata": {
        "id": "7x1qlr3plVrY"
      },
      "execution_count": 22,
      "outputs": []
    },
    {
      "cell_type": "code",
      "source": [
        "%timeit update(params, x, y)"
      ],
      "metadata": {
        "colab": {
          "base_uri": "https://localhost:8080/"
        },
        "id": "4j7M0KqVlQRy",
        "outputId": "6e562109-ff71-48bb-c5c0-69f2222c3c0f"
      },
      "execution_count": 30,
      "outputs": [
        {
          "output_type": "stream",
          "name": "stdout",
          "text": [
            "100 loops, best of 5: 1.83 ms per loop\n"
          ]
        }
      ]
    },
    {
      "cell_type": "code",
      "source": [
        "%timeit eval(params, loader_test)"
      ],
      "metadata": {
        "colab": {
          "base_uri": "https://localhost:8080/"
        },
        "id": "q27eHZtJHkjb",
        "outputId": "4554c050-38df-4e88-c7ab-51837ada6570"
      },
      "execution_count": 38,
      "outputs": [
        {
          "output_type": "stream",
          "name": "stdout",
          "text": [
            "10 loops, best of 5: 100 ms per loop\n"
          ]
        }
      ]
    },
    {
      "cell_type": "code",
      "source": [
        "params = vit.init(rng, jnp.ones((28, 28, 1)))"
      ],
      "metadata": {
        "id": "AAMiAPFnoR3w"
      },
      "execution_count": 51,
      "outputs": []
    },
    {
      "cell_type": "code",
      "source": [
        "EPOCHS = 10\n",
        "\n",
        "for epoch in range(EPOCHS):\n",
        "  mean_loss, c = jnp.array(0.), 0\n",
        "  for x, y in loader_train:\n",
        "    params, loss = update(params, x, y)\n",
        "    mean_loss += loss\n",
        "    c += 1\n",
        "\n",
        "  print(f\"[{epoch}] Mean train loss: {round(mean_loss / c, 5)}\")\n",
        "  print(f\"[{epoch}] Train accuracy: {round(float(eval(params, loader_train)), 2)}\")\n",
        "\n",
        "print(f\"[{epoch}] Test accuracy: {round(float(eval(params, loader_test)), 2)}\")"
      ],
      "metadata": {
        "colab": {
          "base_uri": "https://localhost:8080/"
        },
        "id": "2ti2desmQ6Af",
        "outputId": "0e9fcb50-7a7b-4165-cd48-bdacda10c249"
      },
      "execution_count": 52,
      "outputs": [
        {
          "output_type": "stream",
          "name": "stdout",
          "text": [
            "[0] Mean train loss: 1.9896999597549438\n",
            "[0] Train accuracy: 41.35\n",
            "[1] Mean train loss: 1.2107899188995361\n",
            "[1] Train accuracy: 64.65\n",
            "[2] Mean train loss: 0.7491499781608582\n",
            "[2] Train accuracy: 80.72\n",
            "[3] Mean train loss: 0.5136500000953674\n",
            "[3] Train accuracy: 87.49\n",
            "[4] Mean train loss: 0.40366998314857483\n",
            "[4] Train accuracy: 90.06\n",
            "[5] Mean train loss: 0.343860000371933\n",
            "[5] Train accuracy: 91.16\n",
            "[6] Mean train loss: 0.29712000489234924\n",
            "[6] Train accuracy: 91.75\n",
            "[7] Mean train loss: 0.27177000045776367\n",
            "[7] Train accuracy: 92.84\n",
            "[8] Mean train loss: 0.2602999806404114\n",
            "[8] Train accuracy: 92.23\n",
            "[9] Mean train loss: 0.23503999412059784\n",
            "[9] Train accuracy: 93.26\n",
            "[9] Test accuracy: 93.25\n"
          ]
        }
      ]
    }
  ]
}